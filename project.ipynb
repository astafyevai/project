{
 "cells": [
  {
   "cell_type": "code",
   "execution_count": 1,
   "metadata": {
    "collapsed": true
   },
   "outputs": [],
   "source": [
    "import requests \n",
    "from html.parser import HTMLParser\n",
    "import os\n",
    "from pymystem3 import Mystem"
   ]
  },
  {
   "cell_type": "code",
   "execution_count": 2,
   "metadata": {
    "collapsed": true
   },
   "outputs": [],
   "source": [
    "page_url = \"http://ulpravda.ru/ulpravda-newspaper/news/news-\"\n",
    "\n",
    "directory = \"data/\"\n",
    "\n",
    "for i in range(20000, 30000):\n",
    "    page = requests.get(page_url + str(i))\n",
    "    \n",
    "    if page.status_code == 404:\n",
    "        continue\n",
    "    \n",
    "    try:\n",
    "        content = page.content.decode(\"utf-8\")\n",
    "        page_file = open(directory + str(i), \"w\")\n",
    "        page_file.write(content)\n",
    "        page_file.close()\n",
    "    except UnicodeDecodeError:\n",
    "        continue"
   ]
  },
  {
   "cell_type": "code",
   "execution_count": 3,
   "metadata": {
    "collapsed": false
   },
   "outputs": [],
   "source": [
    "class Parser(HTMLParser):\n",
    "    def __init__(self):\n",
    "        HTMLParser.__init__(self)\n",
    "        \n",
    "        self._SECTION_TAG = \"section\"\n",
    "        self._SECTION_CLASS = \"main-column\"\n",
    "        self._P_TAG = \"p\"\n",
    "        self._H1_TAG = \"h1\"\n",
    "        self._DIV_TAG = \"div\"\n",
    "        self._DIV_CLASS = \"news-item-additional\"\n",
    "\n",
    "        \n",
    "        self._in_section_tag = False\n",
    "        self._in_h1_tag = False\n",
    "        self._in_p_tag = False\n",
    "        self._in_div_tag = False\n",
    "        \n",
    "        self._text_end = False\n",
    "        \n",
    "        \n",
    "        self._p_tag_count = 0\n",
    "        \n",
    "        self._tittle = None\n",
    "        self._text = []\n",
    "        self._author = None\n",
    "        self._date = None\n",
    "        \n",
    "    def handle_starttag(self, tag, attrs):\n",
    "        if tag == self._SECTION_TAG and dict(attrs).get(\"class\") == self._SECTION_CLASS:\n",
    "            self._in_section_tag = True\n",
    "            \n",
    "        if tag == self._DIV_TAG and dict(attrs).get(\"class\") == self._DIV_CLASS:\n",
    "            self._in_div_tag = True\n",
    "            self._text_end = True\n",
    "        \n",
    "        if tag == self._H1_TAG and self._in_section_tag:\n",
    "            self._in_h1_tag = True\n",
    "            \n",
    "        if tag == self._P_TAG and self._in_section_tag:\n",
    "            self._in_p_tag = True\n",
    "            self._p_tag_count += 1\n",
    "            \n",
    "        \n",
    "\n",
    "    def handle_endtag(self, tag):\n",
    "        if tag == self._SECTION_TAG and self._in_section_tag:\n",
    "            self._in_section_tag = False\n",
    "            \n",
    "        if tag == self._H1_TAG and self._in_h1_tag:\n",
    "            self._in_h1_tag = False\n",
    "            \n",
    "        if tag == self._P_TAG and self._in_p_tag:\n",
    "            self._in_p_tag = False\n",
    "            \n",
    "        if tag == self._DIV_TAG and self._in_div_tag:\n",
    "            self._in_div_tag = False\n",
    "\n",
    "    def handle_data(self, data):\n",
    "        if self._in_h1_tag:\n",
    "            self._tittle = data\n",
    "        \n",
    "        if self._in_p_tag and self._p_tag_count >= 2 and not self._text_end:\n",
    "            if len(data) > 0:\n",
    "                self._text += [data]\n",
    "            \n",
    "        if self._in_div_tag:\n",
    "            self._date = data\n",
    "        \n",
    "                     \n",
    "\n",
    "    def parse(self, page_text):\n",
    "        chars = [\"\\r\", \"\\t\", \"\\n\", \"&nbsp;\", \"<br />\"]\n",
    "        page_text = page_text.replace(\"&laquo;\", '\"')\n",
    "        page_text = page_text.replace(\"&raquo;\", '\"')\n",
    "        for char in chars:\n",
    "            page_text = page_text.replace(char, \"\")\n",
    "        self.feed(page_text)\n",
    "        if len(self._text) == 0:\n",
    "            self._text.append(\"\")\n",
    "        \n",
    "        author = self._text[-1]\n",
    "        if len(author) > 50 or len(author.split()) != 2:\n",
    "            author = \"Неизвестно\"\n",
    "        return self._tittle, \"\".join(self._text[:-1]), author, self._date    "
   ]
  },
  {
   "cell_type": "code",
   "execution_count": 4,
   "metadata": {
    "collapsed": false
   },
   "outputs": [],
   "source": [
    "def get_month(month_text):\n",
    "    months = dict()\n",
    "    months[\"января\"] = 1\n",
    "    months[\"февраля\"] = 2\n",
    "    months[\"марта\"] = 3\n",
    "    months[\"апреля\"] = 4\n",
    "    months[\"мая\"] = 5\n",
    "    months[\"июня\"] = 6\n",
    "    months[\"июля\"] = 7\n",
    "    months[\"августа\"] = 8\n",
    "    months[\"сентября\"] = 9\n",
    "    months[\"октября\"] = 10\n",
    "    months[\"ноября\"] = 11\n",
    "    months[\"декабря\"] = 12\n",
    "    \n",
    "    return months[month_text]"
   ]
  },
  {
   "cell_type": "code",
   "execution_count": 5,
   "metadata": {
    "collapsed": false
   },
   "outputs": [],
   "source": [
    "def mystem_to_xml(obj):\n",
    "    res = '<?xml version=\"1.0\" encoding=\"utf-8\"?>\\n<html>\\n\\t<body>\\n\\t\\t<se>\\n'\n",
    "    for word in obj:\n",
    "        if \"analysis\" not in word:\n",
    "            continue\n",
    "        res += \"\\t\\t\\t<w>\"\n",
    "        res += word[\"text\"]\n",
    "        for ana in word[\"analysis\"]:\n",
    "            res += \"<ana \"\n",
    "            for ana_dict in ana.items():\n",
    "                res += ana_dict[0] + '=\"' + str(ana_dict[1]) + '\" '\n",
    "            res += \"/>\"\n",
    "            \n",
    "        res += \"</w>\\n\"\n",
    "    \n",
    "    res += \"\\t\\t</se>\\n\\t</body>\\n</html>\"\n",
    "    return res"
   ]
  },
  {
   "cell_type": "code",
   "execution_count": 6,
   "metadata": {
    "collapsed": false
   },
   "outputs": [],
   "source": [
    "def mystem_to_text(obj):\n",
    "    res = ''\n",
    "    for word in obj:\n",
    "        if \"analysis\" not in word:\n",
    "            continue\n",
    "        res += word[\"text\"] + \"{\"\n",
    "        for ana in word[\"analysis\"]:\n",
    "            for ana_dict in ana.items():\n",
    "                res += ana_dict[0] + '=' + str(ana_dict[1]) + ' '\n",
    "        \n",
    "        res += \"}\\n\"\n",
    "    \n",
    "    return res"
   ]
  },
  {
   "cell_type": "code",
   "execution_count": 7,
   "metadata": {
    "collapsed": true
   },
   "outputs": [],
   "source": [
    "def save_to(text, path, year, month, file_name):\n",
    "    if not os.path.exists(path):\n",
    "        os.mkdir(path)\n",
    "        \n",
    "    path += \"/\"\n",
    "    if not os.path.exists(path + year):\n",
    "        os.mkdir(path + year)\n",
    "    \n",
    "    if not os.path.exists(path + year + \"/\" + month):\n",
    "        os.mkdir(path + year + \"/\" + month)\n",
    "    \n",
    "    file_path = path + year + \"/\" + month + \"/\" + file_name\n",
    "    \n",
    "    file = open(file_path, \"w\")\n",
    "    file.write(text)\n",
    "    file.close()"
   ]
  },
  {
   "cell_type": "code",
   "execution_count": 8,
   "metadata": {
    "collapsed": false
   },
   "outputs": [],
   "source": [
    "def get_row(article_id, mystem):\n",
    "    page_file = open(\"data/\" + str(article_id))\n",
    "    page_text = page_file.read()\n",
    "    page_file.close()\n",
    "    \n",
    "    page_parser = Parser()\n",
    "    page_tittle, page_text, page_author, page_date = page_parser.parse(page_text)\n",
    "    \n",
    "    day = page_date[:page_date.find(\" \")]\n",
    "    month = page_date[page_date.find(\" \") + 1:]\n",
    "    month = month[:month.find(\" \")]\n",
    "    year = page_date[page_date.find(month) + len(month) + 1:]\n",
    "    year = year[:year.find(\" \")]\n",
    "    month = str(get_month(month))\n",
    "    \n",
    "    date = \"\"\n",
    "    if len(day) == 1:\n",
    "        day = \"0\" + day\n",
    "        \n",
    "    if len(month) == 1:\n",
    "        date = \"0\" + month\n",
    "        \n",
    "    date = day + \".\" + month + \".\" + year\n",
    "    \n",
    "    result = []\n",
    "    result.append(\"plain/\" + year + \"/\" + month + \"/\" + str(article_id))\n",
    "    result.append(page_author)\n",
    "    result.append(\"\")\n",
    "    result.append(\"\")\n",
    "    result.append(page_tittle)\n",
    "    result.append(date)\n",
    "    result.append(\"публицистика\")\n",
    "    result.append(\"\")\n",
    "    result.append(\"\")\n",
    "    result.append(\"\")\n",
    "    result.append(\"\")\n",
    "    result.append(\"нейтральный\")\n",
    "    result.append(\"н-возраст\")\n",
    "    result.append(\"н-уровень\")\n",
    "    result.append(\"городская\")\n",
    "    result.append(\"http://ulpravda.ru/ulpravda-newspaper/news/news-\" + str(article_id))\n",
    "    result.append(\"Ульяновская правда\")\n",
    "    result.append(\"\")\n",
    "    result.append(int(year))\n",
    "    result.append(\"газета\")\n",
    "    result.append(\"Россия\")\n",
    "    result.append(\"Ульяновская область\")\n",
    "    result.append(\"ru\")\n",
    "    \n",
    "    analyzed = mystem.analyze(page_text)\n",
    "    xml_text = mystem_to_xml(analyzed)\n",
    "    plain_text = mystem_to_text(analyzed)\n",
    "    \n",
    "    header = \"@au \" + page_author + \"\\n\"\n",
    "    header += \"@ti \" + page_tittle + \"\\n\"\n",
    "    header += \"@da \" + date + \"\\n\"\n",
    "    header += \"@url \" + \"http://ulpravda.ru/ulpravda-newspaper/news/news-\" + str(article_id) + \"\\n\"\n",
    "    page_text = header + page_text\n",
    "    \n",
    "    save_to(page_text, \"plain\", year, month, str(article_id))\n",
    "    save_to(xml_text, \"mystem-xml\", year, month, str(article_id))\n",
    "    save_to(plain_text, \"mystem-plain\", year, month, str(article_id))\n",
    "    \n",
    "    return result"
   ]
  },
  {
   "cell_type": "code",
   "execution_count": 9,
   "metadata": {
    "collapsed": false
   },
   "outputs": [
    {
     "name": "stderr",
     "output_type": "stream",
     "text": [
      "/usr/local/lib/python3.4/dist-packages/ipykernel/__main__.py:3: DeprecationWarning: The value of convert_charrefs will become True in 3.5. You are encouraged to set the value explicitly.\n",
      "  app.launch_new_instance()\n"
     ]
    }
   ],
   "source": [
    "table = []\n",
    "mystem = Mystem()\n",
    "for file_name in os.listdir(\"data\"):\n",
    "    row = get_row(int(file_name), mystem)\n",
    "    table.append(row)"
   ]
  },
  {
   "cell_type": "code",
   "execution_count": 10,
   "metadata": {
    "collapsed": true
   },
   "outputs": [],
   "source": [
    "file = open(\"metadata.csv\", \"w\")\n",
    "header = \"path\tauthor\tsex\tbirthday\theader\tcreated\tsphere\tgenre_fi\ttype\ttopic\tchronotop\tstyle\taudience_age\taudience_level\taudience_size\tsource\tpublication\tpublisher\tpubl_year\tmedium\tcountry\tregion\tlanguage\"\n",
    "file.write(header + \"\\n\")\n",
    "for row in table:\n",
    "    for i in range(len(row) - 1):\n",
    "        file.write(str(row[i]) + \"\\t\")\n",
    "    file.write(str(row[i]) + \"\\n\")\n",
    "file.close()\n"
   ]
  },
  {
   "cell_type": "code",
   "execution_count": null,
   "metadata": {
    "collapsed": false
   },
   "outputs": [],
   "source": []
  }
 ],
 "metadata": {
  "kernelspec": {
   "display_name": "Python 3",
   "language": "python",
   "name": "python3"
  },
  "language_info": {
   "codemirror_mode": {
    "name": "ipython",
    "version": 3
   },
   "file_extension": ".py",
   "mimetype": "text/x-python",
   "name": "python",
   "nbconvert_exporter": "python",
   "pygments_lexer": "ipython3",
   "version": "3.4.2"
  }
 },
 "nbformat": 4,
 "nbformat_minor": 1
}
